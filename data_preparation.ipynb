{
 "cells": [
  {
   "cell_type": "code",
   "execution_count": 85,
   "metadata": {},
   "outputs": [
    {
     "name": "stdout",
     "output_type": "stream",
     "text": [
      "Test Data Created\n"
     ]
    }
   ],
   "source": [
    "import re, csv, os\n",
    "\n",
    "#FIle exists: https://therenegadecoder.com/code/how-to-check-if-a-file-exists-in-python/\n",
    "#re is RegEx module\n",
    "#OPEN THE DATA FILE\n",
    "\n",
    "#More details about open function https://stackabuse.com/file-handling-in-python/\n",
    "file = open(\"Dataset/Raw_Data/yelp_labelled.txt\",'r+')\n",
    "data = file.read()\n",
    "#print(data)\n",
    "\n",
    "#Three list to store processed data\n",
    "sentence_list = []\n",
    "sentence_list_final = []\n",
    "sentiments = []\n",
    "\n",
    "# test = re.split('\\n',data)\n",
    "# print(test)\n",
    "\n",
    "#re.split() args: pattern, string, maxsplit=0, flags=0\n",
    "for sentence in re.split('\\n',data):\n",
    "#     print(sentence)\n",
    "    sentence_list.append(sentence)\n",
    "\n",
    "    \n",
    "for index in range(0,len(sentence_list)-1):\n",
    "    #print(sentence)\n",
    "    tuple = re.split('\\t',sentence_list[index])\n",
    "    #Cleaning out possible punctuation marks\n",
    "    newsentence = tuple[0].replace('.','')\n",
    "    newsentence = newsentence.replace(',','')\n",
    "    newsentence = newsentence.replace('!','')\n",
    "    newsentence = newsentence.replace('-','')\n",
    "    newsentence = newsentence.replace('/','')\n",
    "    newsentence = newsentence.replace('(','')\n",
    "    newsentence = newsentence.replace(')','')\n",
    "    sentiments.append(tuple[1])\n",
    "    sentence_list_final.append(newsentence)\n",
    "    \n",
    "\n",
    "    \n",
    "field_names = ['Sentence', 'Sentiment']    \n",
    "output_csv = open('Dataset/Processed_Data/train_data.csv','a')\n",
    "csv_writer = csv.DictWriter(output_csv, lineterminator='\\n',  fieldnames=field_names)\n",
    "\n",
    "for index in range(0,len(sentence_list_final)-1):\n",
    "    csv_writer.writerow({\"Sentence\":sentence_list_final[index],\n",
    "                     \"Sentiment\":sentiments[index]})\n",
    "\n",
    "output_csv.close()\n",
    "print(\"Test Data Created\")\n"
   ]
  }
 ],
 "metadata": {
  "kernelspec": {
   "display_name": "Python 3",
   "language": "python",
   "name": "python3"
  },
  "language_info": {
   "codemirror_mode": {
    "name": "ipython",
    "version": 3
   },
   "file_extension": ".py",
   "mimetype": "text/x-python",
   "name": "python",
   "nbconvert_exporter": "python",
   "pygments_lexer": "ipython3",
   "version": "3.7.1"
  }
 },
 "nbformat": 4,
 "nbformat_minor": 2
}
